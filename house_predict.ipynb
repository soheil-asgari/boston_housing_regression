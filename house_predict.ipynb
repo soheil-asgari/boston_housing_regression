{
 "cells": [
  {
   "cell_type": "markdown",
   "metadata": {},
   "source": [
    "# Regression"
   ]
  },
  {
   "cell_type": "code",
   "execution_count": 1,
   "metadata": {},
   "outputs": [],
   "source": [
    "from keras.datasets import boston_housing\n",
    "from keras import layers\n",
    "from keras import Sequential\n",
    "import matplotlib.pyplot as plt"
   ]
  },
  {
   "cell_type": "markdown",
   "metadata": {},
   "source": [
    "## 1- Data preparation"
   ]
  },
  {
   "cell_type": "code",
   "execution_count": 2,
   "metadata": {},
   "outputs": [],
   "source": [
    "(train_data, train_labels), (test_data, test_labels) = boston_housing.load_data()"
   ]
  },
  {
   "cell_type": "code",
   "execution_count": 3,
   "metadata": {},
   "outputs": [
    {
     "data": {
      "text/plain": [
       "(404, 13)"
      ]
     },
     "execution_count": 3,
     "metadata": {},
     "output_type": "execute_result"
    }
   ],
   "source": [
    "train_data.shape"
   ]
  },
  {
   "cell_type": "code",
   "execution_count": 4,
   "metadata": {},
   "outputs": [
    {
     "data": {
      "text/plain": [
       "array([  1.23247,   0.     ,   8.14   ,   0.     ,   0.538  ,   6.142  ,\n",
       "        91.7    ,   3.9769 ,   4.     , 307.     ,  21.     , 396.9    ,\n",
       "        18.72   ])"
      ]
     },
     "execution_count": 4,
     "metadata": {},
     "output_type": "execute_result"
    }
   ],
   "source": [
    "train_data[0]"
   ]
  },
  {
   "cell_type": "code",
   "execution_count": 5,
   "metadata": {},
   "outputs": [
    {
     "data": {
      "text/plain": [
       "array([3.74511057e+00, 1.14801980e+01, 1.11044307e+01, 6.18811881e-02,\n",
       "       5.57355941e-01, 6.26708168e+00, 6.90106436e+01, 3.74027079e+00,\n",
       "       9.44059406e+00, 4.05898515e+02, 1.84759901e+01, 3.54783168e+02,\n",
       "       1.27408168e+01])"
      ]
     },
     "execution_count": 5,
     "metadata": {},
     "output_type": "execute_result"
    }
   ],
   "source": [
    "mean = train_data.mean(axis=0)\n",
    "mean"
   ]
  },
  {
   "cell_type": "code",
   "execution_count": 6,
   "metadata": {},
   "outputs": [
    {
     "data": {
      "text/plain": [
       "array([9.22929073e+00, 2.37382770e+01, 6.80287253e+00, 2.40939633e-01,\n",
       "       1.17147847e-01, 7.08908627e-01, 2.79060634e+01, 2.02770050e+00,\n",
       "       8.68758849e+00, 1.66168506e+02, 2.19765689e+00, 9.39946015e+01,\n",
       "       7.24556085e+00])"
      ]
     },
     "execution_count": 6,
     "metadata": {},
     "output_type": "execute_result"
    }
   ],
   "source": [
    "std = train_data.std(axis=0)\n",
    "std"
   ]
  },
  {
   "cell_type": "code",
   "execution_count": 7,
   "metadata": {},
   "outputs": [],
   "source": [
    "train_data = train_data - mean\n",
    "train_data = train_data / std"
   ]
  },
  {
   "cell_type": "code",
   "execution_count": 8,
   "metadata": {},
   "outputs": [],
   "source": [
    "test_data -= mean\n",
    "test_data /= std"
   ]
  },
  {
   "cell_type": "code",
   "execution_count": 9,
   "metadata": {},
   "outputs": [
    {
     "data": {
      "text/plain": [
       "array([-0.27224633, -0.48361547, -0.43576161, -0.25683275, -0.1652266 ,\n",
       "       -0.1764426 ,  0.81306188,  0.1166983 , -0.62624905, -0.59517003,\n",
       "        1.14850044,  0.44807713,  0.8252202 ])"
      ]
     },
     "execution_count": 9,
     "metadata": {},
     "output_type": "execute_result"
    }
   ],
   "source": [
    "train_data[0]"
   ]
  },
  {
   "cell_type": "markdown",
   "metadata": {},
   "source": [
    "## 2- Model design"
   ]
  },
  {
   "cell_type": "code",
   "execution_count": 10,
   "metadata": {},
   "outputs": [],
   "source": [
    "def build_model():\n",
    "    input_shape = train_data[0].shape\n",
    "    model = Sequential(\n",
    "        [\n",
    "            layers.Dense(64, activation=\"relu\", input_shape=input_shape),\n",
    "            layers.Dense(64, activation=\"relu\"),\n",
    "            layers.Dense(1),\n",
    "        ]\n",
    "    )\n",
    "    model.compile(optimizer=\"rmsprop\", loss=\"mse\", metrics=[\"mae\"])\n",
    "    return model"
   ]
  },
  {
   "cell_type": "code",
   "execution_count": 11,
   "metadata": {},
   "outputs": [
    {
     "name": "stdout",
     "output_type": "stream",
     "text": [
      "Model: \"sequential\"\n",
      "_________________________________________________________________\n",
      " Layer (type)                Output Shape              Param #   \n",
      "=================================================================\n",
      " dense (Dense)               (None, 64)                896       \n",
      "                                                                 \n",
      " dense_1 (Dense)             (None, 64)                4160      \n",
      "                                                                 \n",
      " dense_2 (Dense)             (None, 1)                 65        \n",
      "                                                                 \n",
      "=================================================================\n",
      "Total params: 5,121\n",
      "Trainable params: 5,121\n",
      "Non-trainable params: 0\n",
      "_________________________________________________________________\n"
     ]
    }
   ],
   "source": [
    "model = build_model()\n",
    "model.summary()"
   ]
  },
  {
   "cell_type": "markdown",
   "metadata": {},
   "source": [
    "## 3- Training"
   ]
  },
  {
   "cell_type": "code",
   "execution_count": 12,
   "metadata": {},
   "outputs": [
    {
     "name": "stdout",
     "output_type": "stream",
     "text": [
      "Epoch 1/30\n",
      "21/21 [==============================] - 1s 8ms/step - loss: 522.0255 - mae: 20.9581 - val_loss: 521.5305 - val_mae: 21.0036\n",
      "Epoch 2/30\n",
      "21/21 [==============================] - 0s 2ms/step - loss: 405.1436 - mae: 17.9063 - val_loss: 382.2088 - val_mae: 17.5585\n",
      "Epoch 3/30\n",
      "21/21 [==============================] - 0s 2ms/step - loss: 263.3920 - mae: 14.0064 - val_loss: 221.4681 - val_mae: 12.7464\n",
      "Epoch 4/30\n",
      "21/21 [==============================] - 0s 2ms/step - loss: 139.0253 - mae: 9.5397 - val_loss: 109.4241 - val_mae: 8.1386\n",
      "Epoch 5/30\n",
      "21/21 [==============================] - 0s 2ms/step - loss: 68.8313 - mae: 6.3554 - val_loss: 60.0932 - val_mae: 5.8816\n",
      "Epoch 6/30\n",
      "21/21 [==============================] - 0s 2ms/step - loss: 44.4421 - mae: 4.8877 - val_loss: 43.7598 - val_mae: 5.0970\n",
      "Epoch 7/30\n",
      "21/21 [==============================] - 0s 2ms/step - loss: 34.3047 - mae: 4.1058 - val_loss: 35.4123 - val_mae: 4.5671\n",
      "Epoch 8/30\n",
      "21/21 [==============================] - 0s 2ms/step - loss: 28.8343 - mae: 3.7468 - val_loss: 28.2670 - val_mae: 4.0785\n",
      "Epoch 9/30\n",
      "21/21 [==============================] - 0s 2ms/step - loss: 25.1493 - mae: 3.4264 - val_loss: 25.1582 - val_mae: 3.7850\n",
      "Epoch 10/30\n",
      "21/21 [==============================] - 0s 2ms/step - loss: 23.3496 - mae: 3.2497 - val_loss: 24.8055 - val_mae: 3.6422\n",
      "Epoch 11/30\n",
      "21/21 [==============================] - 0s 2ms/step - loss: 21.4620 - mae: 3.1228 - val_loss: 21.4795 - val_mae: 3.5389\n",
      "Epoch 12/30\n",
      "21/21 [==============================] - 0s 2ms/step - loss: 19.8347 - mae: 3.0033 - val_loss: 20.3405 - val_mae: 3.4617\n",
      "Epoch 13/30\n",
      "21/21 [==============================] - 0s 3ms/step - loss: 18.4556 - mae: 2.9410 - val_loss: 18.8991 - val_mae: 3.2951\n",
      "Epoch 14/30\n",
      "21/21 [==============================] - 0s 2ms/step - loss: 17.2588 - mae: 2.7783 - val_loss: 18.1216 - val_mae: 3.2739\n",
      "Epoch 15/30\n",
      "21/21 [==============================] - 0s 2ms/step - loss: 16.1794 - mae: 2.7487 - val_loss: 17.0802 - val_mae: 3.1712\n",
      "Epoch 16/30\n",
      "21/21 [==============================] - 0s 2ms/step - loss: 15.5155 - mae: 2.6126 - val_loss: 16.5512 - val_mae: 3.1020\n",
      "Epoch 17/30\n",
      "21/21 [==============================] - 0s 2ms/step - loss: 14.5114 - mae: 2.5599 - val_loss: 16.3754 - val_mae: 3.1185\n",
      "Epoch 18/30\n",
      "21/21 [==============================] - 0s 2ms/step - loss: 14.0266 - mae: 2.5248 - val_loss: 15.4288 - val_mae: 3.0295\n",
      "Epoch 19/30\n",
      "21/21 [==============================] - 0s 2ms/step - loss: 13.1294 - mae: 2.4238 - val_loss: 15.0889 - val_mae: 2.9638\n",
      "Epoch 20/30\n",
      "21/21 [==============================] - 0s 2ms/step - loss: 12.7731 - mae: 2.3822 - val_loss: 14.7690 - val_mae: 2.9066\n",
      "Epoch 21/30\n",
      "21/21 [==============================] - 0s 2ms/step - loss: 12.0295 - mae: 2.3534 - val_loss: 14.1424 - val_mae: 2.8256\n",
      "Epoch 22/30\n",
      "21/21 [==============================] - 0s 2ms/step - loss: 11.6933 - mae: 2.3154 - val_loss: 13.9515 - val_mae: 2.8425\n",
      "Epoch 23/30\n",
      "21/21 [==============================] - 0s 2ms/step - loss: 11.2396 - mae: 2.2457 - val_loss: 14.1662 - val_mae: 2.8186\n",
      "Epoch 24/30\n",
      "21/21 [==============================] - 0s 2ms/step - loss: 10.7294 - mae: 2.2682 - val_loss: 15.3158 - val_mae: 2.9626\n",
      "Epoch 25/30\n",
      "21/21 [==============================] - 0s 2ms/step - loss: 10.8697 - mae: 2.2351 - val_loss: 16.4865 - val_mae: 3.1810\n",
      "Epoch 26/30\n",
      "21/21 [==============================] - 0s 2ms/step - loss: 10.6798 - mae: 2.2348 - val_loss: 14.5167 - val_mae: 2.7543\n",
      "Epoch 27/30\n",
      "21/21 [==============================] - 0s 2ms/step - loss: 10.2176 - mae: 2.2123 - val_loss: 16.2267 - val_mae: 2.8978\n",
      "Epoch 28/30\n",
      "21/21 [==============================] - 0s 2ms/step - loss: 10.2796 - mae: 2.2136 - val_loss: 15.6209 - val_mae: 2.8946\n",
      "Epoch 29/30\n",
      "21/21 [==============================] - 0s 2ms/step - loss: 9.6640 - mae: 2.2079 - val_loss: 14.1365 - val_mae: 2.6466\n",
      "Epoch 30/30\n",
      "21/21 [==============================] - 0s 2ms/step - loss: 9.6810 - mae: 2.1632 - val_loss: 13.4531 - val_mae: 2.7609\n"
     ]
    }
   ],
   "source": [
    "history = model.fit(\n",
    "    train_data, train_labels, batch_size=16, epochs=30, validation_split=0.2\n",
    ")"
   ]
  },
  {
   "cell_type": "markdown",
   "metadata": {},
   "source": [
    "## 4- Evaluation"
   ]
  },
  {
   "cell_type": "code",
   "execution_count": 13,
   "metadata": {},
   "outputs": [
    {
     "data": {
      "image/png": "[encoded data removed]",
      "text/plain": [
       "<Figure size 640x480 with 1 Axes>"
      ]
     },
     "metadata": {},
     "output_type": "display_data"
    }
   ],
   "source": [
    "losses = history.history[\"loss\"]\n",
    "val_losses = history.history[\"val_loss\"]\n",
    "\n",
    "plt.plot(losses, label=\"Train_loss\")\n",
    "plt.plot(val_losses, label=\"Validation_loss\")\n",
    "plt.legend()\n",
    "plt.show()"
   ]
  },
  {
   "cell_type": "code",
   "execution_count": 14,
   "metadata": {},
   "outputs": [
    {
     "data": {
      "image/png": "[encoded data removed]",
      "text/plain": [
       "<Figure size 640x480 with 1 Axes>"
      ]
     },
     "metadata": {},
     "output_type": "display_data"
    }
   ],
   "source": [
    "acc = history.history[\"mae\"]\n",
    "val_acc = history.history[\"val_mae\"]\n",
    "\n",
    "plt.plot(acc, label=\"Train_mae\")\n",
    "plt.plot(val_acc, label=\"Validation_mae\")\n",
    "plt.legend()\n",
    "plt.show()"
   ]
  },
  {
   "cell_type": "code",
   "execution_count": 15,
   "metadata": {},
   "outputs": [
    {
     "name": "stdout",
     "output_type": "stream",
     "text": [
      "4/4 [==============================] - 0s 1ms/step - loss: 24.9774 - mae: 3.1340\n"
     ]
    },
    {
     "data": {
      "text/plain": [
       "[24.97740936279297, 3.134047031402588]"
      ]
     },
     "execution_count": 15,
     "metadata": {},
     "output_type": "execute_result"
    }
   ],
   "source": [
    "model.evaluate(test_data, test_labels)"
   ]
  },
  {
   "cell_type": "code",
   "execution_count": null,
   "metadata": {},
   "outputs": [],
   "source": []
  }
 ],
 "metadata": {
  "kernelspec": {
   "display_name": "tf",
   "language": "python",
   "name": "python3"
  },
  "language_info": {
   "codemirror_mode": {
    "name": "ipython",
    "version": 3
   },
   "file_extension": ".py",
   "mimetype": "text/x-python",
   "name": "python",
   "nbconvert_exporter": "python",
   "pygments_lexer": "ipython3",
   "version": "3.10.13"
  }
 },
 "nbformat": 4,
 "nbformat_minor": 2
}
